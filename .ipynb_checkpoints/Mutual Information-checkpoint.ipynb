{
 "cells": [
  {
   "cell_type": "markdown",
   "id": "404e8b5e",
   "metadata": {},
   "source": [
    "# Mutal Information 구하기\n",
    "\n",
    "-----------------------------\n",
    "- 방법1. sklearn.metrics 이용\n",
    "\n",
    "- 방법2. 코드 짜서 이용 (출처: https://github.com/connorlee77/pytorch-mutual-information)\n",
    "\n",
    "웬만하면 방법1 사용하자 혹시나해서 방법2 코드 남겨둠."
   ]
  },
  {
   "cell_type": "code",
   "execution_count": null,
   "id": "e9999e2d",
   "metadata": {},
   "outputs": [],
   "source": []
  },
  {
   "cell_type": "markdown",
   "id": "133381b7",
   "metadata": {},
   "source": [
    "## 방법1"
   ]
  },
  {
   "cell_type": "code",
   "execution_count": 1,
   "id": "75e93055",
   "metadata": {},
   "outputs": [],
   "source": [
    "import numpy as np \n",
    "from PIL import Image\n",
    "from sklearn.metrics import normalized_mutual_info_score"
   ]
  },
  {
   "cell_type": "code",
   "execution_count": 11,
   "id": "74e16da9",
   "metadata": {},
   "outputs": [
    {
     "data": {
      "text/plain": [
       "0.22438758557365795"
      ]
     },
     "execution_count": 11,
     "metadata": {},
     "output_type": "execute_result"
    }
   ],
   "source": [
    "# path1 = \"/SSD3_8TB/Daniel/06_pGAN/pGAN-cGAN/results/1_pGAN_run_align/test_latest/images/IXI0_fake_B.png\"\n",
    "# path2 = \"/SSD3_8TB/Daniel/06_pGAN/pGAN-cGAN/results/1_pGAN_run_align/test_latest/images/IXI0_real_B.png\"\n",
    "path1 = \"/SSD3_8TB/Daniel/06_pGAN/pGAN-cGAN/datasets/MI_FID/IXI0_real_B.png\"\n",
    "path2 = \"/SSD3_8TB/Daniel/06_pGAN/pGAN-cGAN/datasets/MI_FID/IXI0_real_A (3).png\"\n",
    "\n",
    "### Create test cases ###\n",
    "img1 = Image.open(path1).convert('L')\n",
    "img2 = Image.open(path2).convert('L')\n",
    "\n",
    "arr1 = np.array(img1)\n",
    "arr2 = np.array(img2)\n",
    "\n",
    "# MI 계산\n",
    "normalized_mutual_info_score(arr1.ravel(), arr2.ravel())"
   ]
  },
  {
   "cell_type": "code",
   "execution_count": null,
   "id": "f095bd72",
   "metadata": {},
   "outputs": [],
   "source": []
  },
  {
   "cell_type": "code",
   "execution_count": null,
   "id": "3b60e8d0",
   "metadata": {},
   "outputs": [],
   "source": []
  },
  {
   "cell_type": "markdown",
   "id": "7d89242c",
   "metadata": {},
   "source": [
    "## 방법2"
   ]
  },
  {
   "cell_type": "code",
   "execution_count": 7,
   "id": "f18b19a3",
   "metadata": {},
   "outputs": [],
   "source": [
    "import os\n",
    "import numpy as np \n",
    "\n",
    "import torch\n",
    "import torch.nn as nn\n",
    "\n",
    "import skimage.io\n",
    "import matplotlib.pyplot as plt\n",
    "\n",
    "from PIL import Image\n",
    "from torchvision import transforms\n",
    "\n",
    "\n",
    "\n",
    "\n",
    "class MutualInformation(nn.Module):\n",
    "\n",
    "\tdef __init__(self, sigma=0.1, num_bins=256, normalize=True):\n",
    "\t\tsuper(MutualInformation, self).__init__()\n",
    "\n",
    "\t\tself.sigma = sigma\n",
    "\t\tself.num_bins = num_bins\n",
    "\t\tself.normalize = normalize\n",
    "\t\tself.epsilon = 1e-10\n",
    "\n",
    "\t\tself.bins = nn.Parameter(torch.linspace(0, 255, num_bins, device=device).float(), requires_grad=False)\n",
    "\n",
    "\n",
    "\tdef marginalPdf(self, values):\n",
    "\n",
    "\t\tresiduals = values - self.bins.unsqueeze(0).unsqueeze(0)\n",
    "\t\tkernel_values = torch.exp(-0.5*(residuals / self.sigma).pow(2))\n",
    "\t\t\n",
    "\t\tpdf = torch.mean(kernel_values, dim=1)\n",
    "\t\tnormalization = torch.sum(pdf, dim=1).unsqueeze(1) + self.epsilon\n",
    "\t\tpdf = pdf / normalization\n",
    "\t\t\n",
    "\t\treturn pdf, kernel_values\n",
    "\n",
    "\n",
    "\tdef jointPdf(self, kernel_values1, kernel_values2):\n",
    "\n",
    "\t\tjoint_kernel_values = torch.matmul(kernel_values1.transpose(1, 2), kernel_values2) \n",
    "\t\tnormalization = torch.sum(joint_kernel_values, dim=(1,2)).view(-1, 1, 1) + self.epsilon\n",
    "\t\tpdf = joint_kernel_values / normalization\n",
    "\n",
    "\t\treturn pdf\n",
    "\n",
    "\n",
    "\tdef getMutualInformation(self, input1, input2):\n",
    "\t\t'''\n",
    "\t\t\tinput1: B, C, H, W\n",
    "\t\t\tinput2: B, C, H, W\n",
    "\t\t\treturn: scalar\n",
    "\t\t'''\n",
    "\n",
    "\t\t# Torch tensors for images between (0, 1)\n",
    "\t\tinput1 = input1*255\n",
    "\t\tinput2 = input2*255\n",
    "\n",
    "\t\tB, C, H, W = input1.shape\n",
    "\t\tassert((input1.shape == input2.shape))\n",
    "\n",
    "\t\tx1 = input1.view(B, H*W, C)\n",
    "\t\tx2 = input2.view(B, H*W, C)\n",
    "\t\t\n",
    "\t\tpdf_x1, kernel_values1 = self.marginalPdf(x1)\n",
    "\t\tpdf_x2, kernel_values2 = self.marginalPdf(x2)\n",
    "\t\tpdf_x1x2 = self.jointPdf(kernel_values1, kernel_values2)\n",
    "\n",
    "\t\tH_x1 = -torch.sum(pdf_x1*torch.log2(pdf_x1 + self.epsilon), dim=1)\n",
    "\t\tH_x2 = -torch.sum(pdf_x2*torch.log2(pdf_x2 + self.epsilon), dim=1)\n",
    "\t\tH_x1x2 = -torch.sum(pdf_x1x2*torch.log2(pdf_x1x2 + self.epsilon), dim=(1,2))\n",
    "\n",
    "\t\tmutual_information = H_x1 + H_x2 - H_x1x2\n",
    "\t\t\n",
    "\t\tif self.normalize:\n",
    "\t\t\tmutual_information = 2*mutual_information/(H_x1+H_x2)\n",
    "\n",
    "\t\treturn mutual_information\n",
    "\n",
    "\n",
    "\tdef forward(self, input1, input2):\n",
    "\t\t'''\n",
    "\t\t\tinput1: B, C, H, W\n",
    "\t\t\tinput2: B, C, H, W\n",
    "\t\t\treturn: scalar\n",
    "\t\t'''\n",
    "\t\treturn self.getMutualInformation(input1, input2)\n"
   ]
  },
  {
   "cell_type": "code",
   "execution_count": 8,
   "id": "4f59b873",
   "metadata": {},
   "outputs": [
    {
     "name": "stdout",
     "output_type": "stream",
     "text": [
      "Image Pair 1 | sklearn MI: 0.378635048312357, this MI: 0.3786352872848511\n",
      "Image Pair 2 | sklearn MI: 1.0, this MI: 1.0\n"
     ]
    }
   ],
   "source": [
    "device = 'cuda:0'\n",
    "\n",
    "path_fake = \"/SSD3_8TB/Daniel/06_pGAN/pGAN-cGAN/results/1_pGAN_run_align/test_latest/images/IXI0_fake_B.png\"\n",
    "path_real = \"/SSD3_8TB/Daniel/06_pGAN/pGAN-cGAN/results/1_pGAN_run_align/test_latest/images/IXI0_real_B.png\"\n",
    "\n",
    "### Create test cases ###\n",
    "img1 = Image.open(path_fake).convert('L')\n",
    "img2 = Image.open(path_real).convert('L')\n",
    "\n",
    "arr1 = np.array(img1)\n",
    "arr2 = np.array(img2)\n",
    "\n",
    "mi_true_1 = normalized_mutual_info_score(arr1.ravel(), arr2.ravel())\n",
    "mi_true_2 = normalized_mutual_info_score(arr2.ravel(), arr2.ravel())\n",
    "\n",
    "img1 = transforms.ToTensor() (img1).unsqueeze(dim=0).to(device)\n",
    "img2 = transforms.ToTensor() (img2).unsqueeze(dim=0).to(device)\n",
    "\n",
    "# Pair of different images, pair of same images\n",
    "input1 = torch.cat([img1, img2])\n",
    "input2 = torch.cat([img2, img2])\n",
    "\n",
    "MI = MutualInformation(num_bins=256, sigma=0.1, normalize=True).to(device)\n",
    "mi_test = MI(input1, input2)\n",
    "\n",
    "mi_test_1 = mi_test[0].cpu().numpy()\n",
    "mi_test_2 = mi_test[1].cpu().numpy()\n",
    "\n",
    "print('Image Pair 1 | sklearn MI: {}, this MI: {}'.format(mi_true_1, mi_test_1))\n",
    "print('Image Pair 2 | sklearn MI: {}, this MI: {}'.format(mi_true_2, mi_test_2))\n",
    "\n",
    "assert(np.abs(mi_test_1 - mi_true_1) < 0.05)\n",
    "assert(np.abs(mi_test_2 - mi_true_2) < 0.05)"
   ]
  },
  {
   "cell_type": "code",
   "execution_count": null,
   "id": "4af87a61",
   "metadata": {},
   "outputs": [],
   "source": []
  },
  {
   "cell_type": "code",
   "execution_count": null,
   "id": "4587e81f",
   "metadata": {},
   "outputs": [],
   "source": []
  },
  {
   "cell_type": "code",
   "execution_count": null,
   "id": "250f52b1",
   "metadata": {},
   "outputs": [],
   "source": []
  },
  {
   "cell_type": "code",
   "execution_count": null,
   "id": "4c0cb027",
   "metadata": {},
   "outputs": [],
   "source": []
  },
  {
   "cell_type": "code",
   "execution_count": null,
   "id": "0758abd3",
   "metadata": {},
   "outputs": [],
   "source": []
  },
  {
   "cell_type": "code",
   "execution_count": null,
   "id": "17407a1d",
   "metadata": {},
   "outputs": [],
   "source": []
  }
 ],
 "metadata": {
  "kernelspec": {
   "display_name": "danny_py3.8.8",
   "language": "python",
   "name": "danny_py3.8.8"
  },
  "language_info": {
   "codemirror_mode": {
    "name": "ipython",
    "version": 3
   },
   "file_extension": ".py",
   "mimetype": "text/x-python",
   "name": "python",
   "nbconvert_exporter": "python",
   "pygments_lexer": "ipython3",
   "version": "3.8.8"
  }
 },
 "nbformat": 4,
 "nbformat_minor": 5
}
